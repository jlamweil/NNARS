{
 "cells": [
  {
   "cell_type": "markdown",
   "metadata": {},
   "source": [
    "# NNARS"
   ]
  },
  {
   "cell_type": "code",
   "execution_count": 10,
   "metadata": {
    "collapsed": true
   },
   "outputs": [],
   "source": [
    "import math\n",
    "import numpy as np"
   ]
  },
  {
   "cell_type": "markdown",
   "metadata": {},
   "source": [
    "## Input\n",
    "\n",
    "f: function to estimate, with support in [0,1]^d.  \n",
    "n: budget available in terms of evaluations of f.  \n",
    "cf: non-vanishing bound. Since n has to be taken large enough to ensure cf > 1/(log log n), we take cf of this order.  \n",
    "H: from Holder, of the order log n.  \n",
    "s: from Holder.  \n",
    "d: dimension.  \n",
    "M_init: constant upper bound on f.  \n",
    "\n",
    "Every parameter is a constant, except for f.\n",
    "f is a python function: array (size, d) -> array (size) "
   ]
  },
  {
   "cell_type": "markdown",
   "metadata": {},
   "source": [
    "## Output\n",
    "\n",
    "X_N"
   ]
  },
  {
   "cell_type": "code",
   "execution_count": 11,
   "metadata": {
    "collapsed": true
   },
   "outputs": [],
   "source": [
    "# Finds the nearest neighbor of point\n",
    "def get_NN(point, neighbors):\n",
    "    \"\"\"\n",
    "    :param point: we are looking for its nearest neighbor\n",
    "    :param neighbors: potential nearest neighbors\n",
    "    :return: index of the nearest neighbor, distance to the nearest neighbor\n",
    "    \"\"\"\n",
    "    distances = np.linalg.norm(point - neighbors, ord=np.inf, axis=1)\n",
    "    indexNN = np.argmin(distances, axis = 0)\n",
    "    return (indexNN, distances[indexNN])"
   ]
  },
  {
   "cell_type": "code",
   "execution_count": 12,
   "metadata": {
    "collapsed": true
   },
   "outputs": [],
   "source": [
    "# Estimate f_chi according to definition 3.1\n",
    "def estimate_f_chi(X_N, fX_N):\n",
    "    \"\"\"\n",
    "    :param X_N: points which have been evaluated\n",
    "    :param fX_N: their evaluations by f\n",
    "    :return: estimation of f for each cell, positions of the center of each cell, distances from center of each cell to\n",
    "             the nearest evaluated point\n",
    "    \"\"\"\n",
    "    #Step 1: build a grid with cells of side-length 1/N**(1/d)\n",
    "    lenChi = fX_N.size\n",
    "    d = X_N.shape[1]\n",
    "    centerCells = np.arange(1, 2. * (int(lenChi ** (1. / d)) + 1)) / (2. * (int(lenChi ** (1. / d)) + 1))\n",
    "    centerCells = np.vstack(map(np.ravel,\n",
    "                                np.meshgrid(*[centerCells for _ in range(d)])\n",
    "                                )\n",
    "                            ).T\n",
    "\n",
    "    #Step 2: f_chi is constant on each cell, equal to the nearest neighbour estimator from the center of the cell.\n",
    "    indicesNN = []\n",
    "    distancesNN = []\n",
    "\n",
    "    for centerCell in centerCells:\n",
    "        indexNN, distanceNN = get_NN(centerCell, X_N)\n",
    "        indicesNN.append(indexNN)\n",
    "        distancesNN.append(distanceNN)\n",
    "    fCells = fX_N[indicesNN]\n",
    "    return fCells, centerCells, distancesNN\n",
    "\n"
   ]
  },
  {
   "cell_type": "code",
   "execution_count": 13,
   "metadata": {
    "collapsed": true
   },
   "outputs": [],
   "source": [
    "def compute_gM(fCells, H, distancesNN, s, d):\n",
    "    \"\"\"\n",
    "    :param fCells: estimation of f for each cell.\n",
    "    :param distancesNN: distances from center of each cell to the nearest evaluated point\n",
    "    :return: values of g in each cell\n",
    "    \"\"\"\n",
    "    #Compute every value of g as in equations (4),(5)\n",
    "    lenChi = fCells.shape[0]\n",
    "    r_hat = H * (np.asarray(distancesNN) + 1. / (2 * (int(lenChi ** (1 / d)) + 1)))**s\n",
    "    gCells = (fCells + np.max(r_hat)) # a less conservative version would correspond to not taking the max.\n",
    "                                      # This would lead to better results in cases when the hypotheses are satisfied.\n",
    "    return gCells\n",
    "\n",
    "\n",
    "def sample_from_g(gCells, centerCells, size):\n",
    "    \"\"\"\n",
    "    :param gCells: values of g in each cell\n",
    "    :param centerCells: positions of the center of each cell. (numberCells,dimension)\n",
    "    :param size: number of points to be sampled\n",
    "    :return: sampled points, their evaluations by g\n",
    "    \"\"\"\n",
    "    d = centerCells.shape[1]\n",
    "    wCells = gCells / gCells.sum()  # \"* 1/(lenChi + 1)**d * 1/M\" useless because renormalize\n",
    "    indices = np.random.choice(len(wCells), size=size, p=wCells)\n",
    "    X = np.random.uniform(-1., 1., size=(size, d)) * centerCells[0, 0]\n",
    "    X += centerCells[indices]\n",
    "    gX = gCells[indices]\n",
    "    return np.asarray(X), np.array(gX)\n",
    "\n",
    "\n",
    "def RSS(f,gCells, centerCells, size):\n",
    "    \"\"\"\n",
    "    :param f: function to sample from\n",
    "    :param gCells: values of g in each cell\n",
    "    :param centerCells: positions of the center of each cell. (numberCells,dimension)\n",
    "    :param size: number of points to be sampled from g, i.e. budget at this step\n",
    "    :return: points sampled from g, their evaluations by f, the accepted indices, the number of times f/g>1\n",
    "    \"\"\"\n",
    "    X, gX = sample_from_g(gCells, centerCells, size=size)\n",
    "    U = np.random.uniform(0,1,size=size)\n",
    "    fX = np.squeeze(f(X))\n",
    "    ratioX = fX/gX #no M because we did not renormalize\n",
    "    isAccepted = ratioX >= U\n",
    "    return X, fX, np.arange(isAccepted.size)[isAccepted], (ratioX > 1).sum()"
   ]
  },
  {
   "cell_type": "code",
   "execution_count": 30,
   "metadata": {
    "collapsed": true
   },
   "outputs": [],
   "source": [
    "def NNARS(f, n, d, cf, H, s, M_init=1.):\n",
    "    \"\"\"\n",
    "    :param f: function to sample from\n",
    "    :param n: budget\n",
    "    :param d: dimension\n",
    "    :param cf: constant\n",
    "    :param H: constant\n",
    "    :param s: constant\n",
    "    :param M_init: upper bound on f\n",
    "    :return: points sampled from f\n",
    "    \"\"\"\n",
    "    N = int(np.log(n))\n",
    "    N_k = N\n",
    "\n",
    "    fX_N = np.asarray([])\n",
    "\n",
    "    indicesAccepted = []\n",
    "\n",
    "    p = int(math.ceil(3. / (2. * cf)))\n",
    "    K = int(math.ceil(np.log(float(n) / N + 1.) / np.log(p)))\n",
    "\n",
    "    gCells = M_init * np.ones(1)\n",
    "    centerCells = np.ones((1, d)) / 2.\n",
    "\n",
    "    countTotal = 0\n",
    "    untrusted = 0\n",
    "    for k in range(1, K + 1):\n",
    "        X_N_out, fX_N_out, indicesAccepted_out, untrusted_out = RSS(f, gCells, centerCells, size=N_k)\n",
    "        indicesAccepted = np.append(indicesAccepted, indicesAccepted_out + fX_N.size)\n",
    "        untrusted += untrusted_out\n",
    "        if indicesAccepted.shape[0] == 0:\n",
    "            print(\"rate of untrusted: \", 0)\n",
    "        else:\n",
    "            print(\"rate of untrusted: \", float(untrusted) / indicesAccepted.shape[0])\n",
    "        X_N = np.vstack((X_N, X_N_out)) if fX_N.size > 0 else X_N_out\n",
    "        fX_N = np.append(fX_N, fX_N_out)\n",
    "        fCells, centerCells, distancesNN = estimate_f_chi(X_N, fX_N)\n",
    "        gCells = compute_gM(fCells, H, distancesNN, s, d)\n",
    "        countTotal += N_k\n",
    "        if k < K-1:\n",
    "            N_k = p * N_k\n",
    "        else:\n",
    "            N_k = n - countTotal #int(N * (1 - p ** (K-1)) / (1. - p))\n",
    "    indicesAccepted = indicesAccepted.astype(int)\n",
    "    return X_N[indicesAccepted]"
   ]
  },
  {
   "cell_type": "markdown",
   "metadata": {},
   "source": [
    "## Example"
   ]
  },
  {
   "cell_type": "code",
   "execution_count": 38,
   "metadata": {},
   "outputs": [],
   "source": [
    "%matplotlib inline\n",
    "\n",
    "import matplotlib.pyplot as plt\n",
    "from scipy.integrate import quad"
   ]
  },
  {
   "cell_type": "markdown",
   "metadata": {},
   "source": [
    "### Target density"
   ]
  },
  {
   "cell_type": "code",
   "execution_count": 51,
   "metadata": {
    "collapsed": true
   },
   "outputs": [],
   "source": [
    "class Sin(object):\n",
    "\n",
    "    def __init__(self, beta):\n",
    "        self.beta = beta\n",
    "        self.zstore = None\n",
    "\n",
    "    def dimensions(self):\n",
    "        return 1\n",
    "\n",
    "    def negative_energy(self, sample):\n",
    "        return self.beta * np.sin(2*np.pi*sample)\n",
    "\n",
    "    def state_space(self):\n",
    "        return (0, 1)\n",
    "\n",
    "    def log_density(self, sample):\n",
    "        return self.negative_energy(sample) - np.log(self.z())\n",
    "\n",
    "    def z(self):\n",
    "        if self.zstore is not None:\n",
    "            return self.zstore\n",
    "        else:\n",
    "            left, right = self.state_space()\n",
    "            self.zstore, err = quad(lambda x: float(np.exp(self.negative_energy(x))), left, right)\n",
    "            return self.zstore\n",
    "        \n",
    "# Parameters\n",
    "d = 1\n",
    "target = Sin(1)\n",
    "budget = 10**5\n",
    "M_init = 2.5\n",
    "cf = 0.25  \n",
    "H = 2. * np.pi * np.e/1.2 \n",
    "s = 1.\n",
    "##########################\n",
    "\n",
    "f= lambda t: np.exp(target.log_density(t))"
   ]
  },
  {
   "cell_type": "code",
   "execution_count": 105,
   "metadata": {},
   "outputs": [
    {
     "name": "stdout",
     "output_type": "stream",
     "text": [
      "('rate of untrusted: ', 0.0)\n",
      "('rate of untrusted: ', 0.0)\n",
      "('rate of untrusted: ', 0.0)\n",
      "('rate of untrusted: ', 0.0)\n",
      "('rate of untrusted: ', 0.0)\n",
      "('rate of untrusted: ', 0.0)\n"
     ]
    }
   ],
   "source": [
    "samples = NNARS(f, budget, 1, cf, H, s, M_init=M_init)"
   ]
  },
  {
   "cell_type": "code",
   "execution_count": 106,
   "metadata": {},
   "outputs": [
    {
     "data": {
      "image/png": "[encoded data removed]",
      "text/plain": [
       "<matplotlib.figure.Figure at 0x7f08d7fe7410>"
      ]
     },
     "metadata": {},
     "output_type": "display_data"
    }
   ],
   "source": [
    "plt.hist(samples, bins=25, normed=True)\n",
    "x = np.linspace(0, 1, 1000)\n",
    "y = f(x)\n",
    "plt.plot(x, y, \"r\", linewidth=4)\n",
    "plt.show()"
   ]
  }
 ],
 "metadata": {
  "kernelspec": {
   "display_name": "Python 2.7",
   "language": "python",
   "name": "py27"
  },
  "language_info": {
   "codemirror_mode": {
    "name": "ipython",
    "version": 2
   },
   "file_extension": ".py",
   "mimetype": "text/x-python",
   "name": "python",
   "nbconvert_exporter": "python",
   "pygments_lexer": "ipython2",
   "version": "2.7.14"
  }
 },
 "nbformat": 4,
 "nbformat_minor": 2
}
